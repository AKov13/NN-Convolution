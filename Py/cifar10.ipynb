{
 "cells": [
  {
   "cell_type": "markdown",
   "metadata": {},
   "source": [
    "### Links:"
   ]
  },
  {
   "cell_type": "markdown",
   "metadata": {},
   "source": [
    "#### Youtube:\n",
    "https://www.youtube.com/watch?v=5GdtghjJ3-U&feature=youtu.be\n",
    "#### CIFAR-10:\n",
    "https://www.cs.toronto.edu/~kriz/cifar.html"
   ]
  },
  {
   "cell_type": "markdown",
   "metadata": {},
   "source": [
    "### Import packages:"
   ]
  },
  {
   "cell_type": "code",
   "execution_count": 1,
   "metadata": {},
   "outputs": [],
   "source": [
    "import numpy\n",
    "from keras.datasets import cifar10\n",
    "from keras.models import Sequential\n",
    "from keras.layers import Dense, Flatten, Activation\n",
    "from keras.layers import Dropout\n",
    "from keras.layers.convolutional import Conv2D, MaxPooling2D\n",
    "from keras.utils import np_utils\n",
    "from keras.optimizers import SGD"
   ]
  },
  {
   "cell_type": "code",
   "execution_count": 2,
   "metadata": {},
   "outputs": [],
   "source": [
    "# Задаем seed для повторяемости результатов\n",
    "numpy.random.seed(42)"
   ]
  },
  {
   "cell_type": "code",
   "execution_count": 3,
   "metadata": {},
   "outputs": [
    {
     "name": "stdout",
     "output_type": "stream",
     "text": [
      "Downloading data from https://www.cs.toronto.edu/~kriz/cifar-10-python.tar.gz\n",
      "170500096/170498071 [==============================] - 48s 0us/step\n"
     ]
    }
   ],
   "source": [
    "# Загружаем данные\n",
    "(X_train, y_train), (X_test, y_test) = cifar10.load_data()\n",
    "# Размер мини-выборки\n",
    "batch_size = 32\n",
    "# Количество классов изображений\n",
    "nb_classes = 10\n",
    "# Количество эпох для обучения\n",
    "nb_epoch = 25\n",
    "# Размер изображений\n",
    "img_rows, img_cols = 32, 32\n",
    "# Количество каналов в изображении: RGB\n",
    "img_channels = 3"
   ]
  },
  {
   "cell_type": "code",
   "execution_count": 4,
   "metadata": {},
   "outputs": [],
   "source": [
    "# Нормализуем данные\n",
    "X_train = X_train.astype('float32')\n",
    "X_test = X_test.astype('float32')\n",
    "X_train /= 255\n",
    "X_test /= 255"
   ]
  },
  {
   "cell_type": "code",
   "execution_count": 5,
   "metadata": {},
   "outputs": [],
   "source": [
    "# Преобразуем метки в категории\n",
    "Y_train = np_utils.to_categorical(y_train, nb_classes)\n",
    "Y_test = np_utils.to_categorical(y_test, nb_classes)"
   ]
  },
  {
   "cell_type": "code",
   "execution_count": 6,
   "metadata": {},
   "outputs": [],
   "source": [
    "# Создаем последовательную модель\n",
    "model = Sequential()"
   ]
  },
  {
   "cell_type": "code",
   "execution_count": 7,
   "metadata": {},
   "outputs": [],
   "source": [
    "# Первый сверточный слой\n",
    "model.add(Conv2D(32, (3, 3), padding='same',\n",
    "                        input_shape=(32, 32, 3), activation='relu'))\n",
    "# Второй сверточный слой\n",
    "model.add(Conv2D(32, (3, 3), activation='relu', padding='same'))\n",
    "# Первый слой подвыборки\n",
    "model.add(MaxPooling2D(pool_size=(2, 2)))\n",
    "# Слой регуляризации Dropout\n",
    "model.add(Dropout(0.25))\n",
    "\n",
    "# Третий сверточный слой\n",
    "model.add(Conv2D(64, (3, 3), padding='same', activation='relu'))\n",
    "# Четвертый сверточный слой\n",
    "model.add(Conv2D(64, (3, 3), activation='relu'))\n",
    "# Второй слой подвыборки\n",
    "model.add(MaxPooling2D(pool_size=(2, 2)))\n",
    "# Слой регуляризации Dropout\n",
    "model.add(Dropout(0.25))\n",
    "# Слой преобразования данных из 2D представления в плоское\n",
    "model.add(Flatten())\n",
    "# Полносвязный слой для классификации\n",
    "model.add(Dense(512, activation='relu'))\n",
    "# Слой регуляризации Dropout\n",
    "model.add(Dropout(0.5))\n",
    "# Выходной полносвязный слой\n",
    "model.add(Dense(nb_classes, activation='softmax'))"
   ]
  },
  {
   "cell_type": "code",
   "execution_count": 8,
   "metadata": {},
   "outputs": [],
   "source": [
    "# Задаем параметры оптимизации\n",
    "sgd = SGD(lr=0.01, decay=1e-6, momentum=0.9, nesterov=True)\n",
    "model.compile(loss='categorical_crossentropy',\n",
    "              optimizer=sgd,\n",
    "              metrics=['accuracy'])"
   ]
  },
  {
   "cell_type": "code",
   "execution_count": 9,
   "metadata": {},
   "outputs": [
    {
     "name": "stdout",
     "output_type": "stream",
     "text": [
      "Epoch 1/25\n",
      "1407/1407 - 111s - loss: 1.7426 - accuracy: 0.3613 - val_loss: 1.3107 - val_accuracy: 0.5188\n",
      "Epoch 2/25\n",
      "1407/1407 - 107s - loss: 1.3148 - accuracy: 0.5256 - val_loss: 1.1121 - val_accuracy: 0.6008\n",
      "Epoch 3/25\n",
      "1407/1407 - 106s - loss: 1.1316 - accuracy: 0.5979 - val_loss: 0.9996 - val_accuracy: 0.6464\n",
      "Epoch 4/25\n",
      "1407/1407 - 106s - loss: 1.0213 - accuracy: 0.6382 - val_loss: 0.9012 - val_accuracy: 0.6818\n",
      "Epoch 5/25\n",
      "1407/1407 - 106s - loss: 0.9422 - accuracy: 0.6686 - val_loss: 0.8869 - val_accuracy: 0.6908\n",
      "Epoch 6/25\n",
      "1407/1407 - 107s - loss: 0.8841 - accuracy: 0.6900 - val_loss: 0.8047 - val_accuracy: 0.7270\n",
      "Epoch 7/25\n",
      "1407/1407 - 110s - loss: 0.8330 - accuracy: 0.7075 - val_loss: 0.7572 - val_accuracy: 0.7368\n",
      "Epoch 8/25\n",
      "1407/1407 - 113s - loss: 0.7993 - accuracy: 0.7173 - val_loss: 0.7185 - val_accuracy: 0.7526\n",
      "Epoch 9/25\n",
      "1407/1407 - 110s - loss: 0.7756 - accuracy: 0.7288 - val_loss: 0.7567 - val_accuracy: 0.7388\n",
      "Epoch 10/25\n",
      "1407/1407 - 113s - loss: 0.7413 - accuracy: 0.7401 - val_loss: 0.7285 - val_accuracy: 0.7494\n",
      "Epoch 11/25\n",
      "1407/1407 - 113s - loss: 0.7102 - accuracy: 0.7510 - val_loss: 0.7209 - val_accuracy: 0.7544\n",
      "Epoch 12/25\n",
      "1407/1407 - 113s - loss: 0.6976 - accuracy: 0.7580 - val_loss: 0.6750 - val_accuracy: 0.7736\n",
      "Epoch 13/25\n",
      "1407/1407 - 110s - loss: 0.6785 - accuracy: 0.7612 - val_loss: 0.7415 - val_accuracy: 0.7468\n",
      "Epoch 14/25\n",
      "1407/1407 - 114s - loss: 0.6620 - accuracy: 0.7693 - val_loss: 0.7914 - val_accuracy: 0.7288\n",
      "Epoch 15/25\n",
      "1407/1407 - 115s - loss: 0.6431 - accuracy: 0.7773 - val_loss: 0.6960 - val_accuracy: 0.7614\n",
      "Epoch 16/25\n",
      "1407/1407 - 113s - loss: 0.6306 - accuracy: 0.7776 - val_loss: 0.6886 - val_accuracy: 0.7640\n",
      "Epoch 17/25\n",
      "1407/1407 - 110s - loss: 0.6160 - accuracy: 0.7858 - val_loss: 0.6948 - val_accuracy: 0.7646\n",
      "Epoch 18/25\n",
      "1407/1407 - 110s - loss: 0.6048 - accuracy: 0.7902 - val_loss: 0.7945 - val_accuracy: 0.7462\n",
      "Epoch 19/25\n",
      "1407/1407 - 115s - loss: 0.6011 - accuracy: 0.7898 - val_loss: 0.6967 - val_accuracy: 0.7662\n",
      "Epoch 20/25\n",
      "1407/1407 - 119s - loss: 0.5960 - accuracy: 0.7922 - val_loss: 0.6707 - val_accuracy: 0.7718\n",
      "Epoch 21/25\n",
      "1407/1407 - 111s - loss: 0.5882 - accuracy: 0.7960 - val_loss: 0.6893 - val_accuracy: 0.7666\n",
      "Epoch 22/25\n",
      "1407/1407 - 110s - loss: 0.5701 - accuracy: 0.8005 - val_loss: 0.6761 - val_accuracy: 0.7822\n",
      "Epoch 23/25\n",
      "1407/1407 - 112s - loss: 0.5632 - accuracy: 0.8063 - val_loss: 0.7879 - val_accuracy: 0.7544\n",
      "Epoch 24/25\n",
      "1407/1407 - 114s - loss: 0.5608 - accuracy: 0.8063 - val_loss: 0.7138 - val_accuracy: 0.7686\n",
      "Epoch 25/25\n",
      "1407/1407 - 111s - loss: 0.5504 - accuracy: 0.8103 - val_loss: 0.6912 - val_accuracy: 0.7748\n"
     ]
    },
    {
     "data": {
      "text/plain": [
       "<tensorflow.python.keras.callbacks.History at 0x21e3c412be0>"
      ]
     },
     "execution_count": 9,
     "metadata": {},
     "output_type": "execute_result"
    }
   ],
   "source": [
    "# Обучаем модель\n",
    "model.fit(X_train, Y_train,\n",
    "              batch_size=batch_size,\n",
    "              epochs=nb_epoch,\n",
    "              validation_split=0.1,\n",
    "              shuffle=True,\n",
    "              verbose=2)"
   ]
  },
  {
   "cell_type": "code",
   "execution_count": 15,
   "metadata": {},
   "outputs": [
    {
     "name": "stdout",
     "output_type": "stream",
     "text": [
      "Точность работы на тестовых данных: 75.63%\n"
     ]
    }
   ],
   "source": [
    "# Оцениваем качество обучения модели на тестовых данных\n",
    "scores = model.evaluate(X_test, Y_test, verbose=0)\n",
    "print(\"Точность работы на тестовых данных: %.2f%%\" % (scores[1]*100))"
   ]
  },
  {
   "cell_type": "code",
   "execution_count": null,
   "metadata": {},
   "outputs": [],
   "source": []
  },
  {
   "cell_type": "code",
   "execution_count": 11,
   "metadata": {},
   "outputs": [],
   "source": [
    "model.save(\"cifar10.h5\")"
   ]
  },
  {
   "cell_type": "code",
   "execution_count": null,
   "metadata": {},
   "outputs": [],
   "source": []
  },
  {
   "cell_type": "code",
   "execution_count": 12,
   "metadata": {},
   "outputs": [],
   "source": [
    "from tensorflow.keras.models import load_model"
   ]
  },
  {
   "cell_type": "code",
   "execution_count": 13,
   "metadata": {},
   "outputs": [],
   "source": [
    "model = load_model(\"cifar10.h5\")"
   ]
  },
  {
   "cell_type": "code",
   "execution_count": 14,
   "metadata": {},
   "outputs": [],
   "source": [
    "# Перекомпиляция модели!\n",
    "sgd = SGD(lr=0.01, decay=1e-6, momentum=0.9, nesterov=True)\n",
    "model.compile(loss='categorical_crossentropy',\n",
    "              optimizer=sgd,\n",
    "              metrics=['accuracy'])"
   ]
  },
  {
   "cell_type": "code",
   "execution_count": null,
   "metadata": {},
   "outputs": [],
   "source": []
  }
 ],
 "metadata": {
  "kernelspec": {
   "display_name": "Python 3",
   "language": "python",
   "name": "python3"
  },
  "language_info": {
   "codemirror_mode": {
    "name": "ipython",
    "version": 3
   },
   "file_extension": ".py",
   "mimetype": "text/x-python",
   "name": "python",
   "nbconvert_exporter": "python",
   "pygments_lexer": "ipython3",
   "version": "3.7.3"
  }
 },
 "nbformat": 4,
 "nbformat_minor": 2
}
